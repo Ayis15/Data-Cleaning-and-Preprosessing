{
 "cells": [
  {
   "cell_type": "markdown",
   "id": "b21e919e",
   "metadata": {},
   "source": [
    "# Libraries Used"
   ]
  },
  {
   "cell_type": "code",
   "execution_count": null,
   "id": "8b8574ae",
   "metadata": {},
   "outputs": [],
   "source": [
    "import os\n",
    "import pandas as pd\n",
    "from sklearn.preprocessing import LabelEncoder, MinMaxScaler"
   ]
  },
  {
   "cell_type": "markdown",
   "id": "8f8b1f40",
   "metadata": {},
   "source": [
    "# Combining Directory with File Path"
   ]
  },
  {
   "cell_type": "code",
   "execution_count": null,
   "id": "5c0e47d4",
   "metadata": {},
   "outputs": [],
   "source": [
    "director = []\n",
    "for i in os.listdir():\n",
    "  direc_dir = os.path.join(os.getcwd(),i)\n",
    "  director.append(direc_dir)"
   ]
  },
  {
   "cell_type": "markdown",
   "id": "80f4dacb",
   "metadata": {},
   "source": [
    "# Menampilkan file yang ada di director"
   ]
  },
  {
   "cell_type": "code",
   "execution_count": null,
   "id": "f449aea3",
   "metadata": {},
   "outputs": [],
   "source": [
    "print(director)"
   ]
  },
  {
   "cell_type": "markdown",
   "id": "00464a7b",
   "metadata": {},
   "source": [
    "# Membaca file dari index ke 2 \"train.csv\""
   ]
  },
  {
   "cell_type": "code",
   "execution_count": null,
   "id": "4c3138b2",
   "metadata": {},
   "outputs": [],
   "source": [
    "dataset_housing_train = pd.read_csv(director[1])"
   ]
  },
  {
   "cell_type": "markdown",
   "id": "5b25bf71",
   "metadata": {},
   "source": [
    "# Menampilkan semua kolom dalam rentang 10 baris isi dari dataset Train.csv</h1>"
   ]
  },
  {
   "cell_type": "code",
   "execution_count": null,
   "id": "f16855b9",
   "metadata": {},
   "outputs": [],
   "source": [
    "dataset_housing_train.head(10)"
   ]
  },
  {
   "cell_type": "markdown",
   "id": "035bc5de",
   "metadata": {},
   "source": [
    "# <b>1. Missing Value pada LotFrontage </h1>"
   ]
  },
  {
   "cell_type": "code",
   "execution_count": null,
   "id": "73e18c08",
   "metadata": {},
   "outputs": [],
   "source": [
    "dataset_housing_train[['LotFrontage','MasVnrArea']].head(10)  #menampilkan 10 kolom LotFrontage dan MasVnrArea"
   ]
  },
  {
   "cell_type": "markdown",
   "id": "c1b7f945",
   "metadata": {},
   "source": [
    "# Menampilkan Jumlah data kosong pada Kolom LotFontage dan MasVnrArea</h1>"
   ]
  },
  {
   "cell_type": "code",
   "execution_count": null,
   "id": "c3003bb5",
   "metadata": {},
   "outputs": [],
   "source": [
    "print(dataset_housing_train[['LotFrontage','MasVnrArea']].isnull().sum())"
   ]
  },
  {
   "cell_type": "markdown",
   "id": "c5c4008c",
   "metadata": {},
   "source": [
    "# <h3>Mengisi Masing masing Kolom yang Sebelumnya Null menggunakan Method median() dari pandas dan mengatur 1 angka dibelakang koma dengan method round()</h3>"
   ]
  },
  {
   "cell_type": "code",
   "execution_count": null,
   "id": "dbc88c56",
   "metadata": {},
   "outputs": [],
   "source": [
    "dataset_housing_train['LotFrontage'] = dataset_housing_train['LotFrontage'].fillna(dataset_housing_train['LotFrontage'].mean()).round(1)\n",
    "dataset_housing_train['MasVnrArea'] = dataset_housing_train['MasVnrArea'].fillna(dataset_housing_train['MasVnrArea'].mean()).round(1)"
   ]
  },
  {
   "cell_type": "markdown",
   "id": "e05f3db3",
   "metadata": {},
   "source": [
    "# Menampilkan Hasil Dari kolom LotFrontange dan MasVnrArea Setelah melakukan Fix Missing Value dengan Method mean()</h1>"
   ]
  },
  {
   "cell_type": "code",
   "execution_count": null,
   "id": "d21a89ab",
   "metadata": {},
   "outputs": [],
   "source": [
    "print(dataset_housing_train[['LotFrontage','MasVnrArea']].isnull().sum())\n",
    "dataset_housing_train[['LotFrontage','MasVnrArea']].head(10)"
   ]
  },
  {
   "cell_type": "markdown",
   "id": "5fb8ca0b",
   "metadata": {},
   "source": [
    "# <b>2. ENCODING Pada Kolom NeighborHoot<b></h1>"
   ]
  },
  {
   "cell_type": "markdown",
   "id": "84694cfa",
   "metadata": {},
   "source": [
    "# menampilkan 10 data dari Kolom \"MSZoning\", \"Neighborhood\" yang akan melakukan encoding menggunakan LabelEncoder dari Library Sklearn"
   ]
  },
  {
   "cell_type": "code",
   "execution_count": null,
   "id": "effcd43b",
   "metadata": {},
   "outputs": [],
   "source": [
    "# dataset = \"MSZoning\",\"Neighborhood\"\n",
    "dataset_housing_train[['MSZoning','Neighborhood']].head(10)"
   ]
  },
  {
   "cell_type": "markdown",
   "id": "d43a2e8c",
   "metadata": {},
   "source": [
    "# Melakukan Encoding pada Kolom Mszoning dan Neighborhood karena dalam format numerik agar bisa diproses oleh model</h1>"
   ]
  },
  {
   "cell_type": "code",
   "execution_count": null,
   "id": "c128be1d",
   "metadata": {},
   "outputs": [],
   "source": [
    "#Membuat Objek pada labelImage\n",
    "dataset_Neighborhood = LabelEncoder()\n",
    "dataset_MSZoning = LabelEncoder()\n",
    "\n",
    "# Transformasi kolom 'Neighborhood'\n",
    "dataset_housing_train['Neighborhood'] = dataset_Neighborhood.fit_transform(dataset_housing_train['Neighborhood'])\n",
    "\n",
    "# Transformasi Kolom 'MSZoning'\n",
    "dataset_housing_train['MSZoning'] = dataset_MSZoning.fit_transform(dataset_housing_train['MSZoning'])"
   ]
  },
  {
   "cell_type": "markdown",
   "id": "574be0de",
   "metadata": {},
   "source": [
    "# menampilkan Masing Masing Kolom ketika sudah di encoding</h1>"
   ]
  },
  {
   "cell_type": "code",
   "execution_count": null,
   "id": "785d2163",
   "metadata": {},
   "outputs": [],
   "source": [
    "dataset_housing_train[['Neighborhood','MSZoning']].head(10)"
   ]
  },
  {
   "cell_type": "markdown",
   "id": "77c4d6d1",
   "metadata": {},
   "source": [
    "# <b>3. Normalisasi Pada Kolom SalePrice<b></h1>"
   ]
  },
  {
   "cell_type": "markdown",
   "id": "24c4085e",
   "metadata": {},
   "source": [
    "# menampilkan kolom SalePrice dan GrLivArea yang akan di lakukan Normalisasi"
   ]
  },
  {
   "cell_type": "code",
   "execution_count": null,
   "id": "5ee0849f",
   "metadata": {},
   "outputs": [],
   "source": [
    "dataset_housing_train[['SalePrice','GrLivArea']].head(10)"
   ]
  },
  {
   "cell_type": "markdown",
   "id": "7b328a0d",
   "metadata": {},
   "source": [
    "# <h3>Melakukan Normalisasi Data pada Kolom SalePrice GrLivArea<h3>"
   ]
  },
  {
   "cell_type": "code",
   "execution_count": null,
   "id": "940cfce9",
   "metadata": {},
   "outputs": [],
   "source": [
    "#membuat Objel masing masing masing Kolom untuk normalisasi\n",
    "normalisasi_SalePrice = MinMaxScaler()\n",
    "normalisasi_GrLivArea = MinMaxScaler()\n",
    "\n",
    "# Melakukan Normalisasi pada Kolom SalePrice\n",
    "dataset_housing_train['SalePrice'] = normalisasi_SalePrice.fit_transform(dataset_housing_train[['SalePrice']])\n",
    "dataset_housing_train['GrLivArea'] = normalisasi_GrLivArea.fit_transform(dataset_housing_train[['GrLivArea']])"
   ]
  },
  {
   "cell_type": "code",
   "execution_count": null,
   "id": "c3585907",
   "metadata": {},
   "outputs": [],
   "source": [
    "dataset_housing_train[['SalePrice','GrLivArea']].head(10)"
   ]
  },
  {
   "cell_type": "markdown",
   "id": "d2d2630f",
   "metadata": {},
   "source": [
    "# <h3>menyimpan File CSV setelah melakukan 3 tahap</h3>\n",
    "  <ul>\n",
    "    <li>Missing Value</li>\n",
    "    <li>Encoding</li>\n",
    "    <li>Normalisasi</li>\n",
    "  </ul>"
   ]
  },
  {
   "cell_type": "code",
   "execution_count": null,
   "id": "8f1e24f6",
   "metadata": {},
   "outputs": [],
   "source": [
    "dataset_housing_train.to_csv('dataset_housing_train_fix.csv',index=False)"
   ]
  }
 ],
 "metadata": {},
 "nbformat": 4,
 "nbformat_minor": 5
}
